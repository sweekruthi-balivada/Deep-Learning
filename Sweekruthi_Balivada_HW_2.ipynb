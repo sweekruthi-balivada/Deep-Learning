{
  "nbformat": 4,
  "nbformat_minor": 0,
  "metadata": {
    "colab": {
      "provenance": [],
      "gpuType": "T4"
    },
    "kernelspec": {
      "name": "python3",
      "display_name": "Python 3"
    },
    "language_info": {
      "name": "python"
    },
    "accelerator": "GPU"
  },
  "cells": [
    {
      "cell_type": "code",
      "execution_count": null,
      "metadata": {
        "id": "4BHtNDeBcIy7"
      },
      "outputs": [],
      "source": [
        "!pip install -U portalocker>=2.0.0"
      ]
    },
    {
      "cell_type": "code",
      "source": [
        "import torch\n",
        "import torch.nn as nn\n",
        "import torch.optim as optim\n",
        "import torchvision\n",
        "import torchvision.transforms as transforms\n",
        "from torch.utils.data import DataLoader\n",
        "import matplotlib.pyplot as plt"
      ],
      "metadata": {
        "id": "q0IFIXQZcjkE"
      },
      "execution_count": null,
      "outputs": []
    },
    {
      "cell_type": "code",
      "source": [
        "# Transformations --> Took reference from the Demo\n",
        "transform = transforms.Compose([\n",
        "    transforms.ToTensor(),  # Convert PIL image or numpy.ndarray to tensor\n",
        "    transforms.Normalize((0.5,), (0.5,))  # Normalize data to range [-1, 1]\n",
        "])\n",
        "\n",
        "# Loading the MNIST dataset\n",
        "train_dataset = torchvision.datasets.MNIST(root='./data', train=True, download=True, transform=transform)\n",
        "test_dataset = torchvision.datasets.MNIST(root='./data', train=False, download=True, transform=transform)\n",
        "\n",
        "# Training and Testing loaders\n",
        "train_loader = torch.utils.data.DataLoader(train_dataset, batch_size=64, shuffle=True)\n",
        "test_loader = torch.utils.data.DataLoader(test_dataset, batch_size=64, shuffle=False)"
      ],
      "metadata": {
        "colab": {
          "base_uri": "https://localhost:8080/"
        },
        "id": "n6WwHFxEcjnr",
        "outputId": "ecbe6025-e78a-409e-875a-d9716a3fe4ba"
      },
      "execution_count": null,
      "outputs": [
        {
          "output_type": "stream",
          "name": "stdout",
          "text": [
            "Downloading http://yann.lecun.com/exdb/mnist/train-images-idx3-ubyte.gz\n",
            "Downloading http://yann.lecun.com/exdb/mnist/train-images-idx3-ubyte.gz to ./data/MNIST/raw/train-images-idx3-ubyte.gz\n"
          ]
        },
        {
          "output_type": "stream",
          "name": "stderr",
          "text": [
            "100%|██████████| 9912422/9912422 [00:00<00:00, 147195148.38it/s]"
          ]
        },
        {
          "output_type": "stream",
          "name": "stdout",
          "text": [
            "Extracting ./data/MNIST/raw/train-images-idx3-ubyte.gz to ./data/MNIST/raw\n"
          ]
        },
        {
          "output_type": "stream",
          "name": "stderr",
          "text": [
            "\n"
          ]
        },
        {
          "output_type": "stream",
          "name": "stdout",
          "text": [
            "\n",
            "Downloading http://yann.lecun.com/exdb/mnist/train-labels-idx1-ubyte.gz\n",
            "Downloading http://yann.lecun.com/exdb/mnist/train-labels-idx1-ubyte.gz to ./data/MNIST/raw/train-labels-idx1-ubyte.gz\n"
          ]
        },
        {
          "output_type": "stream",
          "name": "stderr",
          "text": [
            "100%|██████████| 28881/28881 [00:00<00:00, 25262918.42it/s]\n"
          ]
        },
        {
          "output_type": "stream",
          "name": "stdout",
          "text": [
            "Extracting ./data/MNIST/raw/train-labels-idx1-ubyte.gz to ./data/MNIST/raw\n",
            "\n",
            "Downloading http://yann.lecun.com/exdb/mnist/t10k-images-idx3-ubyte.gz\n",
            "Downloading http://yann.lecun.com/exdb/mnist/t10k-images-idx3-ubyte.gz to ./data/MNIST/raw/t10k-images-idx3-ubyte.gz\n"
          ]
        },
        {
          "output_type": "stream",
          "name": "stderr",
          "text": [
            "100%|██████████| 1648877/1648877 [00:00<00:00, 40290188.27it/s]\n"
          ]
        },
        {
          "output_type": "stream",
          "name": "stdout",
          "text": [
            "Extracting ./data/MNIST/raw/t10k-images-idx3-ubyte.gz to ./data/MNIST/raw\n",
            "\n",
            "Downloading http://yann.lecun.com/exdb/mnist/t10k-labels-idx1-ubyte.gz\n",
            "Downloading http://yann.lecun.com/exdb/mnist/t10k-labels-idx1-ubyte.gz to ./data/MNIST/raw/t10k-labels-idx1-ubyte.gz\n"
          ]
        },
        {
          "output_type": "stream",
          "name": "stderr",
          "text": [
            "100%|██████████| 4542/4542 [00:00<00:00, 21333178.91it/s]\n"
          ]
        },
        {
          "output_type": "stream",
          "name": "stdout",
          "text": [
            "Extracting ./data/MNIST/raw/t10k-labels-idx1-ubyte.gz to ./data/MNIST/raw\n",
            "\n"
          ]
        }
      ]
    },
    {
      "cell_type": "code",
      "source": [
        "# Mapping the labels for the MNIST dataset\n",
        "labels_map = {\n",
        "    0: \"0\", 1: \"1\", 2: \"2\", 3: \"3\", 4: \"4\",\n",
        "    5: \"5\", 6: \"6\", 7: \"7\", 8: \"8\", 9: \"9\"\n",
        "}"
      ],
      "metadata": {
        "id": "Q3vJqG-scjrC"
      },
      "execution_count": null,
      "outputs": []
    },
    {
      "cell_type": "code",
      "source": [
        "figure = plt.figure(figsize=(8, 8))\n",
        "cols, rows = 3, 3\n",
        "\n",
        "# Displaying figures from the dataset randomly\n",
        "for i in range(1, cols * rows + 1):\n",
        "    sample_idx = torch.randint(len(train_dataset), size=(1,)).item()\n",
        "    img, label = train_dataset[sample_idx]\n",
        "    figure.add_subplot(rows, cols, i)\n",
        "    plt.title(labels_map[label])\n",
        "    plt.axis(\"off\")\n",
        "    plt.imshow(img.squeeze(), cmap=\"gray\")\n",
        "plt.show()"
      ],
      "metadata": {
        "colab": {
          "base_uri": "https://localhost:8080/",
          "height": 675
        },
        "id": "SQU1o3POdqT6",
        "outputId": "896cf2ef-0d6c-4183-9299-6c92fdc6829f"
      },
      "execution_count": null,
      "outputs": [
        {
          "output_type": "display_data",
          "data": {
            "text/plain": [
              "<Figure size 800x800 with 9 Axes>"
            ],
            "image/png": "[encoded data removed]"
          },
          "metadata": {}
        }
      ]
    },
    {
      "cell_type": "markdown",
      "source": [
        "### Model building"
      ],
      "metadata": {
        "id": "ab3YOOIyeDR9"
      }
    },
    {
      "cell_type": "code",
      "source": [
        "#Defining NN architecure - MLP- Multi-layer Perceptron\n",
        "class MLP(nn.Module):\n",
        "    def __init__(self):\n",
        "        super(MLP, self).__init__()\n",
        "        self.fc1 = nn.Linear(28 * 28, 128) ## First fully connected linear layer, 28*28 I/P features and 128 O/P features\n",
        "        self.fc2 = nn.Linear(128, 64)\n",
        "        self.fc3 = nn.Linear(64, 10) ## 10 o/p features because MNIST has 10 O/P features\n",
        "\n",
        "    def forward(self, x):\n",
        "        x = x.view(-1, 28 * 28)\n",
        "        x = torch.relu(self.fc1(x)) ## Applying relu activation for the first layer\n",
        "        x = torch.relu(self.fc2(x))\n",
        "        x = self.fc3(x)\n",
        "        return x\n",
        "\n",
        "# Initializing the neural network\n",
        "model = MLP()"
      ],
      "metadata": {
        "id": "g8fqNDq3eCj8"
      },
      "execution_count": null,
      "outputs": []
    },
    {
      "cell_type": "code",
      "source": [
        "# Loss function and optimizer\n",
        "criterion = nn.CrossEntropyLoss()\n",
        "optimizer = optim.Adam(model.parameters(), lr=0.001)\n",
        "\n",
        "# Training the neural network\n",
        "num_epochs = 5\n",
        "for epoch in range(num_epochs):\n",
        "    model.train()\n",
        "    running_loss = 0.0\n",
        "    for i, data in enumerate(train_loader, 0):\n",
        "        inputs, labels = data\n",
        "        optimizer.zero_grad()\n",
        "        outputs = model(inputs)\n",
        "        loss = criterion(outputs, labels)\n",
        "        loss.backward()\n",
        "        optimizer.step()\n",
        "        running_loss += loss.item()\n",
        "        if i % 100 == 99:  # print every 100 mini-batches\n",
        "            print(f'Epoch {epoch + 1}, Batch {i + 1}, Loss: {running_loss / 100}')\n",
        "            running_loss = 0.0\n",
        "\n",
        "print('Finished Training')"
      ],
      "metadata": {
        "colab": {
          "base_uri": "https://localhost:8080/"
        },
        "id": "u488QnzVe40V",
        "outputId": "07b39dfe-b325-4884-fd33-9a58a7514c23"
      },
      "execution_count": null,
      "outputs": [
        {
          "output_type": "stream",
          "name": "stdout",
          "text": [
            "Epoch 1, Batch 100, Loss: 1.027766463458538\n",
            "Epoch 1, Batch 200, Loss: 0.42261952549219134\n",
            "Epoch 1, Batch 300, Loss: 0.36632166340947153\n",
            "Epoch 1, Batch 400, Loss: 0.3557272307574749\n",
            "Epoch 1, Batch 500, Loss: 0.32772814996540545\n",
            "Epoch 1, Batch 600, Loss: 0.29438870944082735\n",
            "Epoch 1, Batch 700, Loss: 0.2688548056781292\n",
            "Epoch 1, Batch 800, Loss: 0.27697311133146285\n",
            "Epoch 1, Batch 900, Loss: 0.2461575023829937\n",
            "Epoch 2, Batch 100, Loss: 0.2318267051130533\n",
            "Epoch 2, Batch 200, Loss: 0.1971542874723673\n",
            "Epoch 2, Batch 300, Loss: 0.20060538444668055\n",
            "Epoch 2, Batch 400, Loss: 0.18731677621603013\n",
            "Epoch 2, Batch 500, Loss: 0.1862528335303068\n",
            "Epoch 2, Batch 600, Loss: 0.18688635274767876\n",
            "Epoch 2, Batch 700, Loss: 0.19139392241835596\n",
            "Epoch 2, Batch 800, Loss: 0.16494716588407754\n",
            "Epoch 2, Batch 900, Loss: 0.16701194643974304\n",
            "Epoch 3, Batch 100, Loss: 0.14217018101364373\n",
            "Epoch 3, Batch 200, Loss: 0.1357156409882009\n",
            "Epoch 3, Batch 300, Loss: 0.14191300103440882\n",
            "Epoch 3, Batch 400, Loss: 0.13317315870895982\n",
            "Epoch 3, Batch 500, Loss: 0.1306048571690917\n",
            "Epoch 3, Batch 600, Loss: 0.13653858641162514\n",
            "Epoch 3, Batch 700, Loss: 0.13610220907256007\n",
            "Epoch 3, Batch 800, Loss: 0.1328659082017839\n",
            "Epoch 3, Batch 900, Loss: 0.12809445071965456\n",
            "Epoch 4, Batch 100, Loss: 0.10921051470562816\n",
            "Epoch 4, Batch 200, Loss: 0.11545455377548933\n",
            "Epoch 4, Batch 300, Loss: 0.09679131466895342\n",
            "Epoch 4, Batch 400, Loss: 0.11692221987992525\n",
            "Epoch 4, Batch 500, Loss: 0.10911627040244638\n",
            "Epoch 4, Batch 600, Loss: 0.11043439267203212\n",
            "Epoch 4, Batch 700, Loss: 0.09866546832956374\n",
            "Epoch 4, Batch 800, Loss: 0.10773236274719239\n",
            "Epoch 4, Batch 900, Loss: 0.11210467977449298\n",
            "Epoch 5, Batch 100, Loss: 0.08945131720975041\n",
            "Epoch 5, Batch 200, Loss: 0.10023625827394426\n",
            "Epoch 5, Batch 300, Loss: 0.0968266783002764\n",
            "Epoch 5, Batch 400, Loss: 0.09499099906533956\n",
            "Epoch 5, Batch 500, Loss: 0.0803088225517422\n",
            "Epoch 5, Batch 600, Loss: 0.09136386956553906\n",
            "Epoch 5, Batch 700, Loss: 0.09221564980689437\n",
            "Epoch 5, Batch 800, Loss: 0.0888225799240172\n",
            "Epoch 5, Batch 900, Loss: 0.09303243995644152\n",
            "Finished Training\n"
          ]
        }
      ]
    },
    {
      "cell_type": "code",
      "source": [
        "# Evaluating the model\n",
        "model.eval()\n",
        "correct = 0\n",
        "total = 0\n",
        "with torch.no_grad():\n",
        "    for data in test_loader:\n",
        "        images, labels = data\n",
        "        outputs = model(images)\n",
        "        _, predicted = torch.max(outputs.data, 1)\n",
        "        total += labels.size(0)\n",
        "        correct += (predicted == labels).sum().item()\n",
        "\n",
        "print(f'Accuracy on test set: { correct / total}%')"
      ],
      "metadata": {
        "colab": {
          "base_uri": "https://localhost:8080/"
        },
        "id": "jFcYJzrWe46p",
        "outputId": "61227113-5f3c-4418-e5ef-2e7d7aa47e61"
      },
      "execution_count": null,
      "outputs": [
        {
          "output_type": "stream",
          "name": "stdout",
          "text": [
            "Accuracy on test set: 0.9676%\n"
          ]
        }
      ]
    },
    {
      "cell_type": "code",
      "source": [
        "# Evaluating the Model by printing a random image and checking whether it correctly labelled or not\n",
        "image_index = 100\n",
        "test_image, test_label = test_dataset[image_index]\n",
        "\n",
        "with torch.no_grad():\n",
        "    model.eval()\n",
        "    output = model(test_image.unsqueeze(0))\n",
        "    _, predicted_label = torch.max(output, 1)\n",
        "\n",
        "test_image_numpy = test_image.squeeze().numpy()\n",
        "\n",
        "plt.imshow(test_image_numpy, cmap='gray')\n",
        "plt.title(f'Predicted Label: {predicted_label.item()}, Actual Label: {test_label}')\n",
        "plt.axis('off')\n",
        "plt.show()\n"
      ],
      "metadata": {
        "colab": {
          "base_uri": "https://localhost:8080/",
          "height": 428
        },
        "id": "94n0j-djfYMN",
        "outputId": "da8a959d-bab9-450a-c922-5985a28e5ac9"
      },
      "execution_count": null,
      "outputs": [
        {
          "output_type": "display_data",
          "data": {
            "text/plain": [
              "<Figure size 640x480 with 1 Axes>"
            ],
            "image/png": "[encoded data removed]"
          },
          "metadata": {}
        }
      ]
    },
    {
      "cell_type": "markdown",
      "source": [
        "### Step 4:\n",
        "\n",
        "### Hypothesis:\n",
        "Adding an additional dense layer will likely increase the model's ability to capture the latent and intricate details peresent in the data there by increasing the performance. But if there are more additional layers and the model is more complex there is a risk of overfitting, given the size of the dataset."
      ],
      "metadata": {
        "id": "nyPGLrzFgXP4"
      }
    },
    {
      "cell_type": "code",
      "source": [
        "# Defining the same neural network architecture but with one more layer\n",
        "class MLP_2(nn.Module):\n",
        "    def __init__(self):\n",
        "        super(MLP_2, self).__init__()\n",
        "        self.fc1 = nn.Linear(28 * 28, 128)\n",
        "        self.fc2 = nn.Linear(128, 128)  # Adding another layer\n",
        "        self.fc3 = nn.Linear(128, 64)\n",
        "        self.fc4 = nn.Linear(64, 10)\n",
        "\n",
        "    def forward(self, x):\n",
        "        x = x.view(-1, 28 * 28)\n",
        "        x = torch.relu(self.fc1(x))\n",
        "        x = torch.relu(self.fc2(x))\n",
        "        x = torch.relu(self.fc3(x))\n",
        "        x = self.fc4(x)\n",
        "        return x\n",
        "\n",
        "# Initialize model 2\n",
        "model_2 = MLP_2()\n"
      ],
      "metadata": {
        "id": "TBC1x6VBgWfF"
      },
      "execution_count": null,
      "outputs": []
    },
    {
      "cell_type": "code",
      "source": [
        "# loss function and optimizer are same\n",
        "criterion = nn.CrossEntropyLoss()\n",
        "optimizer = optim.Adam(model_2.parameters(), lr=0.001)  # Use model_2 instead of model\n",
        "\n",
        "# Training the modified neural network\n",
        "num_epochs = 5\n",
        "for epoch in range(num_epochs):\n",
        "    model_2.train()  # Ensure model_2 is in training mode\n",
        "    running_loss = 0.0\n",
        "    for i, data in enumerate(train_loader, 0):\n",
        "        inputs, labels = data\n",
        "        optimizer.zero_grad()\n",
        "        outputs = model_2(inputs)  # Use model_2 instead of model\n",
        "        loss = criterion(outputs, labels)\n",
        "        loss.backward()\n",
        "        optimizer.step()\n",
        "        running_loss += loss.item()\n",
        "        if i % 100 == 99:  # print every 100 mini-batches\n",
        "            print(f'Epoch {epoch + 1}, Batch {i + 1}, Loss: {running_loss / 100}')\n",
        "            running_loss = 0.0\n",
        "\n",
        "print('Finished Training')\n"
      ],
      "metadata": {
        "colab": {
          "base_uri": "https://localhost:8080/"
        },
        "id": "jblPoOG-gWjq",
        "outputId": "5cf157a1-5dae-42d2-b8b6-7c61bcd5cbfa"
      },
      "execution_count": null,
      "outputs": [
        {
          "output_type": "stream",
          "name": "stdout",
          "text": [
            "Epoch 1, Batch 100, Loss: 1.076742314696312\n",
            "Epoch 1, Batch 200, Loss: 0.4475471602380276\n",
            "Epoch 1, Batch 300, Loss: 0.3799269212782383\n",
            "Epoch 1, Batch 400, Loss: 0.34226983912289144\n",
            "Epoch 1, Batch 500, Loss: 0.28865853302180766\n",
            "Epoch 1, Batch 600, Loss: 0.2841735565662384\n",
            "Epoch 1, Batch 700, Loss: 0.2699821048229933\n",
            "Epoch 1, Batch 800, Loss: 0.24283235229551792\n",
            "Epoch 1, Batch 900, Loss: 0.2421476786583662\n",
            "Epoch 2, Batch 100, Loss: 0.20647274751216174\n",
            "Epoch 2, Batch 200, Loss: 0.2019443818554282\n",
            "Epoch 2, Batch 300, Loss: 0.19839715786278248\n",
            "Epoch 2, Batch 400, Loss: 0.18704855311661958\n",
            "Epoch 2, Batch 500, Loss: 0.1912871154025197\n",
            "Epoch 2, Batch 600, Loss: 0.18548427280038596\n",
            "Epoch 2, Batch 700, Loss: 0.16605669908225537\n",
            "Epoch 2, Batch 800, Loss: 0.16753259748220445\n",
            "Epoch 2, Batch 900, Loss: 0.17385751377791167\n",
            "Epoch 3, Batch 100, Loss: 0.14374211695045233\n",
            "Epoch 3, Batch 200, Loss: 0.13203632552176714\n",
            "Epoch 3, Batch 300, Loss: 0.1296660495735705\n",
            "Epoch 3, Batch 400, Loss: 0.1367923179268837\n",
            "Epoch 3, Batch 500, Loss: 0.13350386634469033\n",
            "Epoch 3, Batch 600, Loss: 0.12340519607067107\n",
            "Epoch 3, Batch 700, Loss: 0.13936262214556336\n",
            "Epoch 3, Batch 800, Loss: 0.12942225815728306\n",
            "Epoch 3, Batch 900, Loss: 0.14398193471133708\n",
            "Epoch 4, Batch 100, Loss: 0.11467683685943485\n",
            "Epoch 4, Batch 200, Loss: 0.10318851245567202\n",
            "Epoch 4, Batch 300, Loss: 0.10919817247428\n",
            "Epoch 4, Batch 400, Loss: 0.10977426678873599\n",
            "Epoch 4, Batch 500, Loss: 0.12491055839695037\n",
            "Epoch 4, Batch 600, Loss: 0.12250848465599119\n",
            "Epoch 4, Batch 700, Loss: 0.09806926608085632\n",
            "Epoch 4, Batch 800, Loss: 0.11651577532291413\n",
            "Epoch 4, Batch 900, Loss: 0.10501116506755352\n",
            "Epoch 5, Batch 100, Loss: 0.09327204280532897\n",
            "Epoch 5, Batch 200, Loss: 0.08158763124141842\n",
            "Epoch 5, Batch 300, Loss: 0.09994460098445415\n",
            "Epoch 5, Batch 400, Loss: 0.10887346632778644\n",
            "Epoch 5, Batch 500, Loss: 0.08675765252904967\n",
            "Epoch 5, Batch 600, Loss: 0.0956259390199557\n",
            "Epoch 5, Batch 700, Loss: 0.09605947469361126\n",
            "Epoch 5, Batch 800, Loss: 0.09172520807944239\n",
            "Epoch 5, Batch 900, Loss: 0.09722657521255314\n",
            "Finished Training\n"
          ]
        }
      ]
    },
    {
      "cell_type": "code",
      "source": [
        "# Evaluating the model\n",
        "model_2.eval()\n",
        "correct = 0\n",
        "total = 0\n",
        "with torch.no_grad():\n",
        "    for data in test_loader:\n",
        "        images, labels = data\n",
        "        outputs = model_2(images)\n",
        "        _, predicted = torch.max(outputs.data, 1)\n",
        "        total += labels.size(0)\n",
        "        correct += (predicted == labels).sum().item()\n",
        "\n",
        "print(f'Accuracy on test set: { correct / total}%')"
      ],
      "metadata": {
        "colab": {
          "base_uri": "https://localhost:8080/"
        },
        "id": "j2DAi-dAgWnK",
        "outputId": "dc1019fc-e2dd-4fdb-944a-5264dd239ad1"
      },
      "execution_count": null,
      "outputs": [
        {
          "output_type": "stream",
          "name": "stdout",
          "text": [
            "Accuracy on test set: 0.9662%\n"
          ]
        }
      ]
    },
    {
      "cell_type": "markdown",
      "source": [
        "### Result:\n",
        "\n",
        "The result is in support to the hypothesis. The model where I have added an extra layer, did show a slight improvement in the accuracy when compared to the precious model."
      ],
      "metadata": {
        "id": "sIHWzUcMhpsP"
      }
    },
    {
      "cell_type": "markdown",
      "source": [
        "### Step 7\n",
        "Experimenting with the model"
      ],
      "metadata": {
        "id": "StM-W717lBTj"
      }
    },
    {
      "cell_type": "markdown",
      "source": [
        "<b>Hypothesis 1:</b>\n",
        "\n",
        "Changing the optimizer to SGD, Increasing the learning rate to 0.01 may lead to faster learning during the training of the model.\n"
      ],
      "metadata": {
        "id": "7yKaQkQNpE4b"
      }
    },
    {
      "cell_type": "code",
      "source": [
        "# Changing the optimizer for Model_2\n",
        "criterion = nn.CrossEntropyLoss()\n",
        "optimizer = optim.SGD(model_2.parameters(), lr=0.01) # Increased learning rate to 0.01%\n",
        "\n",
        "# Training the neural network\n",
        "num_epochs = 5\n",
        "for epoch in range(num_epochs):\n",
        "    model_2.train()\n",
        "    running_loss = 0.0\n",
        "    for i, data in enumerate(train_loader, 0):\n",
        "        inputs, labels = data\n",
        "        optimizer.zero_grad()\n",
        "        outputs = model_2(inputs)\n",
        "        loss = criterion(outputs, labels)\n",
        "        loss.backward()\n",
        "        optimizer.step()\n",
        "        running_loss += loss.item()\n",
        "        if i % 100 == 99:\n",
        "            print(f'Epoch {epoch + 1}, Batch {i + 1}, Loss: {running_loss / 100}')\n",
        "            running_loss = 0.0\n",
        "\n",
        "print('Finished Training')\n",
        "\n",
        "\n",
        "# Evaluating the model\n",
        "model_2.eval()\n",
        "correct = 0\n",
        "total = 0\n",
        "with torch.no_grad():\n",
        "    for data in test_loader:\n",
        "        images, labels = data\n",
        "        outputs = model_2(images)\n",
        "        _, predicted = torch.max(outputs.data, 1)\n",
        "        total += labels.size(0)\n",
        "        correct += (predicted == labels).sum().item()\n",
        "\n",
        "print(f'Accuracy on test set: { correct / total}%')"
      ],
      "metadata": {
        "colab": {
          "base_uri": "https://localhost:8080/"
        },
        "id": "9uDvINVYhrob",
        "outputId": "3f80a924-fc82-4482-b8fe-3b8ebde12c74"
      },
      "execution_count": null,
      "outputs": [
        {
          "output_type": "stream",
          "name": "stdout",
          "text": [
            "Epoch 1, Batch 100, Loss: 0.06339370383415371\n",
            "Epoch 1, Batch 200, Loss: 0.06208181254565716\n",
            "Epoch 1, Batch 300, Loss: 0.047062768893083556\n",
            "Epoch 1, Batch 400, Loss: 0.05031040196307004\n",
            "Epoch 1, Batch 500, Loss: 0.04745570327155292\n",
            "Epoch 1, Batch 600, Loss: 0.05178708768682554\n",
            "Epoch 1, Batch 700, Loss: 0.0489665582543239\n",
            "Epoch 1, Batch 800, Loss: 0.05437368585495278\n",
            "Epoch 1, Batch 900, Loss: 0.0529392583318986\n",
            "Epoch 2, Batch 100, Loss: 0.04382604194339365\n",
            "Epoch 2, Batch 200, Loss: 0.055102688455954195\n",
            "Epoch 2, Batch 300, Loss: 0.046025687910150735\n",
            "Epoch 2, Batch 400, Loss: 0.03759412131737918\n",
            "Epoch 2, Batch 500, Loss: 0.05094301956705749\n",
            "Epoch 2, Batch 600, Loss: 0.053495346810668705\n",
            "Epoch 2, Batch 700, Loss: 0.04265960224205628\n",
            "Epoch 2, Batch 800, Loss: 0.03871196806896478\n",
            "Epoch 2, Batch 900, Loss: 0.05338339628186077\n",
            "Epoch 3, Batch 100, Loss: 0.04099106887355447\n",
            "Epoch 3, Batch 200, Loss: 0.04021720333956182\n",
            "Epoch 3, Batch 300, Loss: 0.04734326071571559\n",
            "Epoch 3, Batch 400, Loss: 0.03677526771556586\n",
            "Epoch 3, Batch 500, Loss: 0.047348796548321845\n",
            "Epoch 3, Batch 600, Loss: 0.048179349924903365\n",
            "Epoch 3, Batch 700, Loss: 0.05102196611464024\n",
            "Epoch 3, Batch 800, Loss: 0.04163270883262157\n",
            "Epoch 3, Batch 900, Loss: 0.04340315364534035\n",
            "Epoch 4, Batch 100, Loss: 0.043758353509474546\n",
            "Epoch 4, Batch 200, Loss: 0.04170417972607538\n",
            "Epoch 4, Batch 300, Loss: 0.0395737659977749\n",
            "Epoch 4, Batch 400, Loss: 0.0424772267555818\n",
            "Epoch 4, Batch 500, Loss: 0.045385597348213194\n",
            "Epoch 4, Batch 600, Loss: 0.04618685118854046\n",
            "Epoch 4, Batch 700, Loss: 0.045156903171446175\n",
            "Epoch 4, Batch 800, Loss: 0.0461813004151918\n",
            "Epoch 4, Batch 900, Loss: 0.03219502500258386\n",
            "Epoch 5, Batch 100, Loss: 0.045194530980661514\n",
            "Epoch 5, Batch 200, Loss: 0.038900895045371725\n",
            "Epoch 5, Batch 300, Loss: 0.04339530626311898\n",
            "Epoch 5, Batch 400, Loss: 0.04007726325304248\n",
            "Epoch 5, Batch 500, Loss: 0.041819844667334106\n",
            "Epoch 5, Batch 600, Loss: 0.04344337101327255\n",
            "Epoch 5, Batch 700, Loss: 0.03711562843993306\n",
            "Epoch 5, Batch 800, Loss: 0.043429003442870456\n",
            "Epoch 5, Batch 900, Loss: 0.0364480765000917\n",
            "Finished Training\n",
            "Accuracy on test set: 0.9773%\n"
          ]
        }
      ]
    },
    {
      "cell_type": "markdown",
      "source": [
        "### Result:\n",
        "\n",
        "Accuracy increased than the previous model. The learning rate as I have thought in the hypothesis, increased and lead to a faster training and lead to a better performance of the model."
      ],
      "metadata": {
        "id": "033ybOdtprNq"
      }
    },
    {
      "cell_type": "markdown",
      "source": [
        "<b>Hypothesis 2:</b>\n",
        "\n",
        "Using a different activation function in the model. By using different activation functions, I want to see thier effect on the performance of the model.\n"
      ],
      "metadata": {
        "id": "1N5dwObxb473"
      }
    },
    {
      "cell_type": "code",
      "source": [
        "class MLP_3(nn.Module):\n",
        "    def __init__(self):\n",
        "        super(MLP_3, self).__init__()\n",
        "        self.fc1 = nn.Linear(28 * 28, 128)\n",
        "        self.fc2 = nn.Linear(128, 128)\n",
        "        self.fc3 = nn.Linear(128, 64)\n",
        "        self.fc4 = nn.Linear(64, 10)\n",
        "\n",
        "    def forward(self, x):\n",
        "        x = x.view(-1, 28 * 28)\n",
        "        x = torch.relu(self.fc1(x))\n",
        "        x = torch.sigmoid(self.fc2(x))  # Using sigmoid activation function for the second layer\n",
        "        x = torch.relu(self.fc3(x))\n",
        "        x = self.fc4(x)\n",
        "        return x\n",
        "\n",
        "# Initialize model_3\n",
        "model_3 = MLP_3()\n",
        "\n"
      ],
      "metadata": {
        "id": "FpuOOPLKhEGL"
      },
      "execution_count": null,
      "outputs": []
    },
    {
      "cell_type": "code",
      "source": [
        "# Loss function and optimizer\n",
        "criterion = nn.CrossEntropyLoss()\n",
        "optimizer = optim.Adam(model_3.parameters(), lr=0.001)\n",
        "\n",
        "# Training the neural network\n",
        "num_epochs = 5\n",
        "for epoch in range(num_epochs):\n",
        "    model_3.train()\n",
        "    running_loss = 0.0\n",
        "    for i, data in enumerate(train_loader, 0):\n",
        "        inputs, labels = data\n",
        "        optimizer.zero_grad()\n",
        "        outputs = model_3(inputs)\n",
        "        loss = criterion(outputs, labels)\n",
        "        loss.backward()\n",
        "        optimizer.step()\n",
        "        running_loss += loss.item()\n",
        "        if i % 100 == 99:  # print every 100 mini-batches\n",
        "            print(f'Epoch {epoch + 1}, Batch {i + 1}, Loss: {running_loss / 100}')\n",
        "            running_loss = 0.0\n",
        "\n",
        "print('Finished Training')\n",
        "\n",
        "# Evaluating the model\n",
        "model_3.eval()\n",
        "correct = 0\n",
        "total = 0\n",
        "with torch.no_grad():\n",
        "    for data in test_loader:\n",
        "        images, labels = data\n",
        "        outputs = model_3(images)\n",
        "        _, predicted = torch.max(outputs.data, 1)\n",
        "        total += labels.size(0)\n",
        "        correct += (predicted == labels).sum().item()\n",
        "\n",
        "print(f'Accuracy on test set: { correct / total}%')"
      ],
      "metadata": {
        "colab": {
          "base_uri": "https://localhost:8080/"
        },
        "id": "-Y0Z3Dl-iwgl",
        "outputId": "3a6e4b46-6a36-4346-bd43-44d8fccc43ad"
      },
      "execution_count": null,
      "outputs": [
        {
          "output_type": "stream",
          "name": "stdout",
          "text": [
            "Epoch 1, Batch 100, Loss: 1.4694708731770516\n",
            "Epoch 1, Batch 200, Loss: 0.5532271987199784\n",
            "Epoch 1, Batch 300, Loss: 0.4172725349664688\n",
            "Epoch 1, Batch 400, Loss: 0.3224704061448574\n",
            "Epoch 1, Batch 500, Loss: 0.2993147809803486\n",
            "Epoch 1, Batch 600, Loss: 0.29385972194373605\n",
            "Epoch 1, Batch 700, Loss: 0.2648950580507517\n",
            "Epoch 1, Batch 800, Loss: 0.24012051679193974\n",
            "Epoch 1, Batch 900, Loss: 0.2307078104838729\n",
            "Epoch 2, Batch 100, Loss: 0.19984303176403045\n",
            "Epoch 2, Batch 200, Loss: 0.17190765183418988\n",
            "Epoch 2, Batch 300, Loss: 0.16417120456695555\n",
            "Epoch 2, Batch 400, Loss: 0.18073924709111452\n",
            "Epoch 2, Batch 500, Loss: 0.18270463116466998\n",
            "Epoch 2, Batch 600, Loss: 0.17430584598332644\n",
            "Epoch 2, Batch 700, Loss: 0.16245834382250904\n",
            "Epoch 2, Batch 800, Loss: 0.15987214295193553\n",
            "Epoch 2, Batch 900, Loss: 0.1543268659710884\n",
            "Epoch 3, Batch 100, Loss: 0.12917786138132215\n",
            "Epoch 3, Batch 200, Loss: 0.14223155837506055\n",
            "Epoch 3, Batch 300, Loss: 0.12344783972948789\n",
            "Epoch 3, Batch 400, Loss: 0.1154082040861249\n",
            "Epoch 3, Batch 500, Loss: 0.14686898211017252\n",
            "Epoch 3, Batch 600, Loss: 0.11957929775118828\n",
            "Epoch 3, Batch 700, Loss: 0.11686017088592053\n",
            "Epoch 3, Batch 800, Loss: 0.11789985878393054\n",
            "Epoch 3, Batch 900, Loss: 0.14074592975899577\n",
            "Epoch 4, Batch 100, Loss: 0.1045520933996886\n",
            "Epoch 4, Batch 200, Loss: 0.10415400516241789\n",
            "Epoch 4, Batch 300, Loss: 0.09475117767229677\n",
            "Epoch 4, Batch 400, Loss: 0.11358510392252356\n",
            "Epoch 4, Batch 500, Loss: 0.10760252870619297\n",
            "Epoch 4, Batch 600, Loss: 0.09167065703310072\n",
            "Epoch 4, Batch 700, Loss: 0.11250768925994635\n",
            "Epoch 4, Batch 800, Loss: 0.09362494077533484\n",
            "Epoch 4, Batch 900, Loss: 0.09671922801993788\n",
            "Epoch 5, Batch 100, Loss: 0.08958480360452085\n",
            "Epoch 5, Batch 200, Loss: 0.09561667044647038\n",
            "Epoch 5, Batch 300, Loss: 0.07947105379309505\n",
            "Epoch 5, Batch 400, Loss: 0.09322207992896438\n",
            "Epoch 5, Batch 500, Loss: 0.09815423754043877\n",
            "Epoch 5, Batch 600, Loss: 0.09063314213883132\n",
            "Epoch 5, Batch 700, Loss: 0.08810834291391074\n",
            "Epoch 5, Batch 800, Loss: 0.10003964836709202\n",
            "Epoch 5, Batch 900, Loss: 0.07300961988978089\n",
            "Finished Training\n",
            "Accuracy on test set: 0.9627%\n"
          ]
        }
      ]
    },
    {
      "cell_type": "markdown",
      "source": [
        "<b>Result:</b>\n",
        "Model showed a good performance and by changing the activation function the accuracy neither improved nor deprived. So we can say that this is also a good combination to use.\n"
      ],
      "metadata": {
        "id": "VHrcjAdrkgcc"
      }
    },
    {
      "cell_type": "markdown",
      "source": [
        "<b>Hypothesis 3:</b>\n",
        "\n",
        "Using a Dropout Layer with adjustable dropout rate just to check how it effects the performance of the model."
      ],
      "metadata": {
        "id": "T_3uHYnrk5al"
      }
    },
    {
      "cell_type": "code",
      "source": [
        "class MLP_4(nn.Module):\n",
        "    def __init__(self, dropout_rate=0.5):\n",
        "        super(MLP_4, self).__init__()\n",
        "        self.fc1 = nn.Linear(28 * 28, 128)\n",
        "        self.fc2 = nn.Linear(128, 128)\n",
        "        self.dropout = nn.Dropout(dropout_rate)  # Dropout layer with adjustable dropout rate\n",
        "        self.fc3 = nn.Linear(128, 64)\n",
        "        self.fc4 = nn.Linear(64, 10)\n",
        "\n",
        "    def forward(self, x):\n",
        "        x = x.view(-1, 28 * 28)\n",
        "        x = torch.relu(self.fc1(x))\n",
        "        x = torch.relu(self.fc2(x))\n",
        "        x = self.dropout(x)  # Applying dropout\n",
        "        x = torch.relu(self.fc3(x))\n",
        "        x = self.fc4(x)\n",
        "        return x\n",
        "\n",
        "# Initializing model_4 with dropout rate of 0.5\n",
        "model_4 = MLP_4(dropout_rate=0.5)"
      ],
      "metadata": {
        "id": "NWfxN3HBixOW"
      },
      "execution_count": null,
      "outputs": []
    },
    {
      "cell_type": "code",
      "source": [
        "# Loss function and optimizer\n",
        "criterion = nn.CrossEntropyLoss()\n",
        "optimizer = optim.Adam(model_4.parameters(), lr=0.001)\n",
        "\n",
        "# Training the neural network\n",
        "num_epochs = 5\n",
        "for epoch in range(num_epochs):\n",
        "    model_4.train()\n",
        "    running_loss = 0.0\n",
        "    for i, data in enumerate(train_loader, 0):\n",
        "        inputs, labels = data\n",
        "        optimizer.zero_grad()\n",
        "        outputs = model_4(inputs)\n",
        "        loss = criterion(outputs, labels)\n",
        "        loss.backward()\n",
        "        optimizer.step()\n",
        "        running_loss += loss.item()\n",
        "        if i % 100 == 99:  # print every 100 mini-batches\n",
        "            print(f'Epoch {epoch + 1}, Batch {i + 1}, Loss: {running_loss / 100}')\n",
        "            running_loss = 0.0\n",
        "\n",
        "print('Finished Training')\n",
        "\n",
        "# Evaluating the model\n",
        "model_4.eval()\n",
        "correct = 0\n",
        "total = 0\n",
        "with torch.no_grad():\n",
        "    for data in test_loader:\n",
        "        images, labels = data\n",
        "        outputs = model_4(images)\n",
        "        _, predicted = torch.max(outputs.data, 1)\n",
        "        total += labels.size(0)\n",
        "        correct += (predicted == labels).sum().item()\n",
        "\n",
        "print(f'Accuracy on test set: { correct / total}%')\n"
      ],
      "metadata": {
        "colab": {
          "base_uri": "https://localhost:8080/"
        },
        "id": "tZYT2ISym0ML",
        "outputId": "a55a3ff0-9be7-4d6d-ff4f-79d993c8c3af"
      },
      "execution_count": null,
      "outputs": [
        {
          "output_type": "stream",
          "name": "stdout",
          "text": [
            "Epoch 1, Batch 100, Loss: 1.4247095739841462\n",
            "Epoch 1, Batch 200, Loss: 0.6364197665452958\n",
            "Epoch 1, Batch 300, Loss: 0.4884757977724075\n",
            "Epoch 1, Batch 400, Loss: 0.43475090578198433\n",
            "Epoch 1, Batch 500, Loss: 0.4098598180711269\n",
            "Epoch 1, Batch 600, Loss: 0.3718586927652359\n",
            "Epoch 1, Batch 700, Loss: 0.32807513639330865\n",
            "Epoch 1, Batch 800, Loss: 0.32316673986613753\n",
            "Epoch 1, Batch 900, Loss: 0.30640654511749743\n",
            "Epoch 2, Batch 100, Loss: 0.2576712003350258\n",
            "Epoch 2, Batch 200, Loss: 0.2510404726117849\n",
            "Epoch 2, Batch 300, Loss: 0.2546730499714613\n",
            "Epoch 2, Batch 400, Loss: 0.24554114561527968\n",
            "Epoch 2, Batch 500, Loss: 0.23934019446372987\n",
            "Epoch 2, Batch 600, Loss: 0.2207339145988226\n",
            "Epoch 2, Batch 700, Loss: 0.21583999544382096\n",
            "Epoch 2, Batch 800, Loss: 0.21956197522580623\n",
            "Epoch 2, Batch 900, Loss: 0.22323226053267717\n",
            "Epoch 3, Batch 100, Loss: 0.18803455881774425\n",
            "Epoch 3, Batch 200, Loss: 0.1969586317613721\n",
            "Epoch 3, Batch 300, Loss: 0.19588945291936397\n",
            "Epoch 3, Batch 400, Loss: 0.1861816007271409\n",
            "Epoch 3, Batch 500, Loss: 0.18242897398769856\n",
            "Epoch 3, Batch 600, Loss: 0.1733229461312294\n",
            "Epoch 3, Batch 700, Loss: 0.1913978947326541\n",
            "Epoch 3, Batch 800, Loss: 0.16907049966976045\n",
            "Epoch 3, Batch 900, Loss: 0.1793980981595814\n",
            "Epoch 4, Batch 100, Loss: 0.16489396775141357\n",
            "Epoch 4, Batch 200, Loss: 0.1569340771995485\n",
            "Epoch 4, Batch 300, Loss: 0.16189097408205272\n",
            "Epoch 4, Batch 400, Loss: 0.16714908177033067\n",
            "Epoch 4, Batch 500, Loss: 0.15100565750151873\n",
            "Epoch 4, Batch 600, Loss: 0.1564502436481416\n",
            "Epoch 4, Batch 700, Loss: 0.15670031399466097\n",
            "Epoch 4, Batch 800, Loss: 0.16483446110039948\n",
            "Epoch 4, Batch 900, Loss: 0.16732915984466673\n",
            "Epoch 5, Batch 100, Loss: 0.14129401719197632\n",
            "Epoch 5, Batch 200, Loss: 0.12732081764377653\n",
            "Epoch 5, Batch 300, Loss: 0.13756397662684322\n",
            "Epoch 5, Batch 400, Loss: 0.13189945551566779\n",
            "Epoch 5, Batch 500, Loss: 0.1323945033363998\n",
            "Epoch 5, Batch 600, Loss: 0.1476115632802248\n",
            "Epoch 5, Batch 700, Loss: 0.1415780868800357\n",
            "Epoch 5, Batch 800, Loss: 0.14750694930553437\n",
            "Epoch 5, Batch 900, Loss: 0.1393739937338978\n",
            "Finished Training\n",
            "Accuracy on test set: 0.9645%\n"
          ]
        }
      ]
    },
    {
      "cell_type": "markdown",
      "source": [
        "<b>Result</b>\n",
        "The accuracy did not change when compared with the previous models. It is in the same range, so by adding a dropout layer and using the same combination of layers does not impact the performance of the model."
      ],
      "metadata": {
        "id": "i5qutIuCm_e6"
      }
    },
    {
      "cell_type": "markdown",
      "source": [
        "<b>Hypothesis 4</b>\n",
        "\n",
        "Changing the number of epochs"
      ],
      "metadata": {
        "id": "mf8OEU97m_j-"
      }
    },
    {
      "cell_type": "code",
      "source": [
        "class MLP_5(nn.Module):\n",
        "    def __init__(self):\n",
        "        super(MLP_5, self).__init__()\n",
        "        self.fc1 = nn.Linear(28 * 28, 128)\n",
        "        self.fc2 = nn.Linear(128, 128)\n",
        "        self.fc3 = nn.Linear(128, 64)\n",
        "        self.fc4 = nn.Linear(64, 10)\n",
        "\n",
        "    def forward(self, x):\n",
        "        x = x.view(-1, 28 * 28)\n",
        "        x = torch.relu(self.fc1(x))\n",
        "        x = torch.relu(self.fc2(x))\n",
        "        x = torch.relu(self.fc3(x))\n",
        "        x = self.fc4(x)\n",
        "        return x\n",
        "\n",
        "# Initializing model_5\n",
        "model_5 = MLP_5()\n",
        "\n"
      ],
      "metadata": {
        "id": "HE0fCS4Sm-fH"
      },
      "execution_count": null,
      "outputs": []
    },
    {
      "cell_type": "code",
      "source": [
        "# Loss function and optimizer\n",
        "criterion = nn.CrossEntropyLoss()\n",
        "optimizer = optim.Adam(model_5.parameters(), lr=0.001)\n",
        "\n",
        "# Training the neural network\n",
        "num_epochs = 15\n",
        "for epoch in range(num_epochs):\n",
        "    model_5.train()\n",
        "    running_loss = 0.0\n",
        "    for i, data in enumerate(train_loader, 0):\n",
        "        inputs, labels = data\n",
        "        optimizer.zero_grad()\n",
        "        outputs = model_5(inputs)\n",
        "        loss = criterion(outputs, labels)\n",
        "        loss.backward()\n",
        "        optimizer.step()\n",
        "        running_loss += loss.item()\n",
        "        if i % 100 == 99:\n",
        "            print(f'Epoch {epoch + 1}, Batch {i + 1}, Loss: {running_loss / 100}')\n",
        "            running_loss = 0.0\n",
        "\n",
        "print('Finished Training')\n",
        "\n",
        "# Evaluating the model\n",
        "model_5.eval()\n",
        "correct = 0\n",
        "total = 0\n",
        "with torch.no_grad():\n",
        "    for data in test_loader:\n",
        "        images, labels = data\n",
        "        outputs = model_5(images)\n",
        "        _, predicted = torch.max(outputs, 1)\n",
        "        total += labels.size(0)\n",
        "        correct += (predicted == labels).sum().item()\n",
        "\n",
        "print(f'Accuracy on test set: {correct / total}%')\n"
      ],
      "metadata": {
        "colab": {
          "base_uri": "https://localhost:8080/"
        },
        "id": "1Xnr_5zHm-in",
        "outputId": "5f600211-8eb6-4def-dd13-478917c97570"
      },
      "execution_count": null,
      "outputs": [
        {
          "output_type": "stream",
          "name": "stdout",
          "text": [
            "Epoch 1, Batch 100, Loss: 1.1310789316892624\n",
            "Epoch 1, Batch 200, Loss: 0.48800792306661606\n",
            "Epoch 1, Batch 300, Loss: 0.40975818306207656\n",
            "Epoch 1, Batch 400, Loss: 0.32280451729893683\n",
            "Epoch 1, Batch 500, Loss: 0.31080727465450764\n",
            "Epoch 1, Batch 600, Loss: 0.302058434933424\n",
            "Epoch 1, Batch 700, Loss: 0.25768276520073413\n",
            "Epoch 1, Batch 800, Loss: 0.2520501197502017\n",
            "Epoch 1, Batch 900, Loss: 0.2356016906350851\n",
            "Epoch 2, Batch 100, Loss: 0.22867143228650094\n",
            "Epoch 2, Batch 200, Loss: 0.19990795232355596\n",
            "Epoch 2, Batch 300, Loss: 0.19736208997666835\n",
            "Epoch 2, Batch 400, Loss: 0.18952029017731548\n",
            "Epoch 2, Batch 500, Loss: 0.16513678643852472\n",
            "Epoch 2, Batch 600, Loss: 0.17391017835587264\n",
            "Epoch 2, Batch 700, Loss: 0.1533302374370396\n",
            "Epoch 2, Batch 800, Loss: 0.17202186483889817\n",
            "Epoch 2, Batch 900, Loss: 0.15947617204859854\n",
            "Epoch 3, Batch 100, Loss: 0.12996052405796946\n",
            "Epoch 3, Batch 200, Loss: 0.13731842467561364\n",
            "Epoch 3, Batch 300, Loss: 0.14077948115766048\n",
            "Epoch 3, Batch 400, Loss: 0.1354887911491096\n",
            "Epoch 3, Batch 500, Loss: 0.13020684758201242\n",
            "Epoch 3, Batch 600, Loss: 0.13773678086698055\n",
            "Epoch 3, Batch 700, Loss: 0.12900285065174102\n",
            "Epoch 3, Batch 800, Loss: 0.12912037070840598\n",
            "Epoch 3, Batch 900, Loss: 0.12051516488194465\n",
            "Epoch 4, Batch 100, Loss: 0.10191998040303588\n",
            "Epoch 4, Batch 200, Loss: 0.10180232216604054\n",
            "Epoch 4, Batch 300, Loss: 0.11196663913317025\n",
            "Epoch 4, Batch 400, Loss: 0.11452782343141735\n",
            "Epoch 4, Batch 500, Loss: 0.11378850830718874\n",
            "Epoch 4, Batch 600, Loss: 0.11307280277833343\n",
            "Epoch 4, Batch 700, Loss: 0.0922730816155672\n",
            "Epoch 4, Batch 800, Loss: 0.11587172288447618\n",
            "Epoch 4, Batch 900, Loss: 0.10876272981055081\n",
            "Epoch 5, Batch 100, Loss: 0.08200929803308099\n",
            "Epoch 5, Batch 200, Loss: 0.09496734167449176\n",
            "Epoch 5, Batch 300, Loss: 0.08950758304446936\n",
            "Epoch 5, Batch 400, Loss: 0.1042082801926881\n",
            "Epoch 5, Batch 500, Loss: 0.09447318885475398\n",
            "Epoch 5, Batch 600, Loss: 0.08993534322828055\n",
            "Epoch 5, Batch 700, Loss: 0.09201197551097721\n",
            "Epoch 5, Batch 800, Loss: 0.07952300575561821\n",
            "Epoch 5, Batch 900, Loss: 0.09312533935531973\n",
            "Epoch 6, Batch 100, Loss: 0.0771769839990884\n",
            "Epoch 6, Batch 200, Loss: 0.0792513048928231\n",
            "Epoch 6, Batch 300, Loss: 0.08069278276525438\n",
            "Epoch 6, Batch 400, Loss: 0.07260394285898655\n",
            "Epoch 6, Batch 500, Loss: 0.07230399913154542\n",
            "Epoch 6, Batch 600, Loss: 0.08448024074546993\n",
            "Epoch 6, Batch 700, Loss: 0.0809763624239713\n",
            "Epoch 6, Batch 800, Loss: 0.08546611401252449\n",
            "Epoch 6, Batch 900, Loss: 0.08174741370603442\n",
            "Epoch 7, Batch 100, Loss: 0.05662491826573387\n",
            "Epoch 7, Batch 200, Loss: 0.07836169623304158\n",
            "Epoch 7, Batch 300, Loss: 0.06958997898735106\n",
            "Epoch 7, Batch 400, Loss: 0.06666893667541444\n",
            "Epoch 7, Batch 500, Loss: 0.06940670949406921\n",
            "Epoch 7, Batch 600, Loss: 0.07695160008501262\n",
            "Epoch 7, Batch 700, Loss: 0.07432228129822761\n",
            "Epoch 7, Batch 800, Loss: 0.07505359593546018\n",
            "Epoch 7, Batch 900, Loss: 0.06747810000553728\n",
            "Epoch 8, Batch 100, Loss: 0.06632772432640195\n",
            "Epoch 8, Batch 200, Loss: 0.050224244880955664\n",
            "Epoch 8, Batch 300, Loss: 0.07818430379731581\n",
            "Epoch 8, Batch 400, Loss: 0.057770546772517264\n",
            "Epoch 8, Batch 500, Loss: 0.056223498377949\n",
            "Epoch 8, Batch 600, Loss: 0.0770222811982967\n",
            "Epoch 8, Batch 700, Loss: 0.0603274578275159\n",
            "Epoch 8, Batch 800, Loss: 0.06560333637520671\n",
            "Epoch 8, Batch 900, Loss: 0.0677791267959401\n",
            "Epoch 9, Batch 100, Loss: 0.059748241920024155\n",
            "Epoch 9, Batch 200, Loss: 0.04537277540424839\n",
            "Epoch 9, Batch 300, Loss: 0.052777188676409424\n",
            "Epoch 9, Batch 400, Loss: 0.0455487566976808\n",
            "Epoch 9, Batch 500, Loss: 0.0588114345917711\n",
            "Epoch 9, Batch 600, Loss: 0.06119454302126542\n",
            "Epoch 9, Batch 700, Loss: 0.07261742373462766\n",
            "Epoch 9, Batch 800, Loss: 0.06402405653148889\n",
            "Epoch 9, Batch 900, Loss: 0.0713070643437095\n",
            "Epoch 10, Batch 100, Loss: 0.05835820107255131\n",
            "Epoch 10, Batch 200, Loss: 0.04078937267884612\n",
            "Epoch 10, Batch 300, Loss: 0.04613668701378629\n",
            "Epoch 10, Batch 400, Loss: 0.05798963330569677\n",
            "Epoch 10, Batch 500, Loss: 0.0527814419940114\n",
            "Epoch 10, Batch 600, Loss: 0.05315796297043562\n",
            "Epoch 10, Batch 700, Loss: 0.06125188825652003\n",
            "Epoch 10, Batch 800, Loss: 0.050580489269923416\n",
            "Epoch 10, Batch 900, Loss: 0.0464354812214151\n",
            "Epoch 11, Batch 100, Loss: 0.039983610396739096\n",
            "Epoch 11, Batch 200, Loss: 0.04270729313138873\n",
            "Epoch 11, Batch 300, Loss: 0.05204221975640394\n",
            "Epoch 11, Batch 400, Loss: 0.05002358023892157\n",
            "Epoch 11, Batch 500, Loss: 0.05782858737744391\n",
            "Epoch 11, Batch 600, Loss: 0.05103987666661851\n",
            "Epoch 11, Batch 700, Loss: 0.0470539337315131\n",
            "Epoch 11, Batch 800, Loss: 0.05042223808937706\n",
            "Epoch 11, Batch 900, Loss: 0.05781257049180567\n",
            "Epoch 12, Batch 100, Loss: 0.04177288950420916\n",
            "Epoch 12, Batch 200, Loss: 0.028798052003839985\n",
            "Epoch 12, Batch 300, Loss: 0.05172012328810524\n",
            "Epoch 12, Batch 400, Loss: 0.039968428660649806\n",
            "Epoch 12, Batch 500, Loss: 0.040409048971487206\n",
            "Epoch 12, Batch 600, Loss: 0.04076636050827801\n",
            "Epoch 12, Batch 700, Loss: 0.04718863342655823\n",
            "Epoch 12, Batch 800, Loss: 0.04751912952400744\n",
            "Epoch 12, Batch 900, Loss: 0.04398905731854029\n",
            "Epoch 13, Batch 100, Loss: 0.03954131131293252\n",
            "Epoch 13, Batch 200, Loss: 0.04036913839401677\n",
            "Epoch 13, Batch 300, Loss: 0.04676777000539005\n",
            "Epoch 13, Batch 400, Loss: 0.04409465419361368\n",
            "Epoch 13, Batch 500, Loss: 0.04889218848198652\n",
            "Epoch 13, Batch 600, Loss: 0.028286275394493715\n",
            "Epoch 13, Batch 700, Loss: 0.048910322181181985\n",
            "Epoch 13, Batch 800, Loss: 0.04140115760848857\n",
            "Epoch 13, Batch 900, Loss: 0.03546474897360895\n",
            "Epoch 14, Batch 100, Loss: 0.03608620770741254\n",
            "Epoch 14, Batch 200, Loss: 0.03763446138356812\n",
            "Epoch 14, Batch 300, Loss: 0.034209293923922815\n",
            "Epoch 14, Batch 400, Loss: 0.03927409953903407\n",
            "Epoch 14, Batch 500, Loss: 0.04581608637585305\n",
            "Epoch 14, Batch 600, Loss: 0.04105007947946433\n",
            "Epoch 14, Batch 700, Loss: 0.03043221151237958\n",
            "Epoch 14, Batch 800, Loss: 0.045982687673531475\n",
            "Epoch 14, Batch 900, Loss: 0.04003022321965546\n",
            "Epoch 15, Batch 100, Loss: 0.02940095428872155\n",
            "Epoch 15, Batch 200, Loss: 0.03371166425087722\n",
            "Epoch 15, Batch 300, Loss: 0.043933162752073256\n",
            "Epoch 15, Batch 400, Loss: 0.04172059093485586\n",
            "Epoch 15, Batch 500, Loss: 0.03241709907204495\n",
            "Epoch 15, Batch 600, Loss: 0.034126583972829395\n",
            "Epoch 15, Batch 700, Loss: 0.029811515605542807\n",
            "Epoch 15, Batch 800, Loss: 0.03740137903776485\n",
            "Epoch 15, Batch 900, Loss: 0.04456670477578882\n",
            "Finished Training\n",
            "Accuracy on test set: 0.9677%\n"
          ]
        }
      ]
    },
    {
      "cell_type": "markdown",
      "source": [
        "**Result:**\n",
        "By Increasing the number of epochs the accuracy increased a bit from the previous model, but it falls under the same range, so increasing of epochs also does not have much impact on the model.\n",
        "\n",
        "The combination which we used in the model_2 is the best one. The model's performance is improved by adding a dense layer.\n",
        "\n",
        "\n",
        "\n"
      ],
      "metadata": {
        "id": "A8OGwz4lN5Tj"
      }
    },
    {
      "cell_type": "markdown",
      "source": [
        "### GitHub Link\n",
        "\n",
        "https://github.com/sweekruthi-balivada/Deep-Learning\n"
      ],
      "metadata": {
        "id": "l85Dv7p_3Id7"
      }
    },
    {
      "cell_type": "code",
      "source": [],
      "metadata": {
        "id": "GO1Ae_lq3Nma"
      },
      "execution_count": null,
      "outputs": []
    }
  ]
}